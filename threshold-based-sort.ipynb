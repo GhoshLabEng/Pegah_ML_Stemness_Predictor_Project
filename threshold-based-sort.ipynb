{
 "cells": [
  {
   "cell_type": "code",
   "execution_count": 16,
   "metadata": {},
   "outputs": [
    {
     "name": "stdout",
     "output_type": "stream",
     "text": [
      "40th Percentile from the Median: 0.006351569615294765\n",
      "how many values below or equal to the threshold:\n",
      "3299\n",
      "how many values above the threshold:\n",
      "13193\n"
     ]
    }
   ],
   "source": [
    "#Classify the cells based on where their cd105 expression intensity falls compared \n",
    "#to the lowest 40% pencentile from the median of P3 Soft intensity distribution \n",
    "\n",
    "import pandas as pd\n",
    "import numpy as np\n",
    "\n",
    "# Read the excel file\n",
    "file_path = '/Users/pegaheizad/Desktop/Ghosh_lab/data_files/cd73_data.xlsx'\n",
    "df = pd.read_excel(file_path)\n",
    "\n",
    "# get the data from the intensity column\n",
    "# this data includes both soft and TCP and P3 & P5\n",
    "cd73_data = df['Intensity_MeanIntensity_cells']\n",
    "\n",
    "# Find the median\n",
    "median_value = np.median(cd73_data)\n",
    "\n",
    "# Get the data below the median\n",
    "lower_half = cd73_data[cd73_data <= median_value]\n",
    "# Find the 40th percentile of the lower half\n",
    "lower_40_percentile_threshold = np.percentile(lower_half, 40)\n",
    "\n",
    "# sort values based on the 40th percentile from median threshold\n",
    "below_or_equal_threshold = df[df['Intensity_MeanIntensity_cells'] <= lower_40_percentile_threshold]\n",
    "above_threshold = df[df['Intensity_MeanIntensity_cells'] > lower_40_percentile_threshold]\n",
    "\n",
    "# take a segment of the data for the ML\n",
    "below_or_equal_threshold_data_for_ML = df[df['Intensity_MeanIntensity_cells'] <= lower_40_percentile_threshold].head(3000)\n",
    "above_threshold_data_for_ML = df[df['Intensity_MeanIntensity_cells'] > lower_40_percentile_threshold].head(3500)\n",
    "\n",
    "# Print results to check\n",
    "print(f\"40th Percentile from the Median: {lower_40_percentile_threshold}\")\n",
    "print(f\"how many values below or equal to the threshold:\\n{len(below_or_equal_threshold)}\")\n",
    "print(f\"how many values above the threshold:\\n{len(above_threshold)}\")\n",
    "# print(below_or_equal_threshold.head(1))\n",
    "# print(above_threshold.head(5))\n",
    "\n",
    "\n"
   ]
  },
  {
   "cell_type": "code",
   "execution_count": 17,
   "metadata": {},
   "outputs": [],
   "source": [
    "# Concatenate the two datasets\n",
    "combined_data = pd.concat([below_or_equal_threshold_data_for_ML, above_threshold_data_for_ML])\n",
    "\n",
    "# Write the combined data into an Excel file\n",
    "combined_data.to_excel(\"/Users/pegaheizad/Desktop/Ghosh_lab/data_files/sorted_cd73_data.xlsx\", index=False)"
   ]
  }
 ],
 "metadata": {
  "kernelspec": {
   "display_name": "uqbio2024_py310",
   "language": "python",
   "name": "python3"
  },
  "language_info": {
   "codemirror_mode": {
    "name": "ipython",
    "version": 3
   },
   "file_extension": ".py",
   "mimetype": "text/x-python",
   "name": "python",
   "nbconvert_exporter": "python",
   "pygments_lexer": "ipython3",
   "version": "3.10.14"
  }
 },
 "nbformat": 4,
 "nbformat_minor": 2
}
