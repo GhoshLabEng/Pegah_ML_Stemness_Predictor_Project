{
 "cells": [
  {
   "cell_type": "code",
   "execution_count": 1,
   "metadata": {},
   "outputs": [
    {
     "name": "stdout",
     "output_type": "stream",
     "text": [
      "40th Percentile from the Median: 0.3112578689148011\n",
      "Values below or equal to the 40th percentile: 609\n",
      "Values above the 40th percentile: 914\n"
     ]
    }
   ],
   "source": [
    "#Classify the cells based on where their cd105 expression intensity falls compared \n",
    "#to the lowest 40% pencentile of P3 Soft intensity distribution \n",
    "\n",
    "import pandas as pd\n",
    "import numpy as np\n",
    "\n",
    "# Read the excel file\n",
    "file_path = '/Users/pegaheizad/Desktop/Ghosh_lab/data_files/cd105_selected_columns.xlsx'\n",
    "df = pd.read_excel(file_path)\n",
    "\n",
    "# Separate data based on P3 & growing surface\n",
    "p3soft_data = df[(df['Metadata_Passage'] == 3) & (df['Metadata_GrowingSurface'] == 'soft')]['Intensity_MeanIntensity_cells']\n",
    "\n",
    "# Find the median\n",
    "median_value = np.median(p3soft_data)\n",
    "\n",
    "# Get the data below the median\n",
    "lower_half = p3soft_data[p3soft_data <= median_value]\n",
    "\n",
    "# Find the 40th percentile of the lower half\n",
    "lower_40_percentile_threshold = np.percentile(lower_half, 40)\n",
    "# Arrays for values below and above the 40th percentile of the lower half\n",
    "below_40_percentile = lower_half[lower_half <= lower_40_percentile_threshold]\n",
    "above_40_percentile = lower_half[lower_half > lower_40_percentile_threshold]\n",
    "\n",
    "# Print results\n",
    "print(f\"40th Percentile from the Median: {lower_40_percentile_threshold}\")\n",
    "print(f\"Values below or equal to the 40th percentile: {len(below_40_percentile)}\")\n",
    "print(f\"Values above the 40th percentile: {len(above_40_percentile.values)}\")\n",
    "\n",
    "\n",
    "\n"
   ]
  }
 ],
 "metadata": {
  "kernelspec": {
   "display_name": "uqbio2024_py310",
   "language": "python",
   "name": "python3"
  },
  "language_info": {
   "codemirror_mode": {
    "name": "ipython",
    "version": 3
   },
   "file_extension": ".py",
   "mimetype": "text/x-python",
   "name": "python",
   "nbconvert_exporter": "python",
   "pygments_lexer": "ipython3",
   "version": "3.10.14"
  }
 },
 "nbformat": 4,
 "nbformat_minor": 2
}
