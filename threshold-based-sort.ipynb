{
 "cells": [
  {
   "cell_type": "code",
   "execution_count": 8,
   "metadata": {},
   "outputs": [
    {
     "name": "stdout",
     "output_type": "stream",
     "text": [
      "40th Percentile from the Median: 0.3112578689148011\n",
      "how many values below or equal to the threshold:\n",
      "2587\n",
      "how many values above the threshold:\n",
      "5210\n",
      "  object-id  Intensity_MeanIntensity_cells\n",
      "1       1-2                       0.212632\n",
      "2       1-3                       0.152431\n",
      "3       1-4                       0.215738\n",
      "4       1-5                       0.143791\n",
      "5       1-6                       0.222546\n",
      "   object-id  Intensity_MeanIntensity_cells\n",
      "0        1-1                       0.327381\n",
      "7        1-8                       0.361025\n",
      "12      1-13                       0.353671\n",
      "15      1-16                       0.340796\n",
      "18      1-19                       0.315461\n"
     ]
    }
   ],
   "source": [
    "#Classify the cells based on where their cd105 expression intensity falls compared \n",
    "#to the lowest 40% pencentile from the median of P3 Soft intensity distribution \n",
    "\n",
    "import pandas as pd\n",
    "import numpy as np\n",
    "\n",
    "# Read the excel file\n",
    "file_path = '/Users/pegaheizad/Desktop/Ghosh_lab/data_files/cd105_selected_columns.xlsx'\n",
    "df = pd.read_excel(file_path)\n",
    "\n",
    "# Separate data based on P3 & growing surface\n",
    "p3soft_data = df[(df['Metadata_Passage'] == 3) & (df['Metadata_GrowingSurface'] == 'soft')]['Intensity_MeanIntensity_cells']\n",
    "\n",
    "# Find the median\n",
    "median_value = np.median(p3soft_data)\n",
    "\n",
    "# Get the data below the median\n",
    "lower_half = p3soft_data[p3soft_data <= median_value]\n",
    "# Find the 40th percentile of the lower half\n",
    "lower_40_percentile_threshold = np.percentile(lower_half, 40)\n",
    "\n",
    "# sort values based on the 40th percentile threshold\n",
    "below_or_equal_threshold = df[df['Intensity_MeanIntensity_cells'] <= lower_40_percentile_threshold][['object-id', 'Intensity_MeanIntensity_cells']]\n",
    "above_threshold = df[df['Intensity_MeanIntensity_cells'] > lower_40_percentile_threshold][['object-id', 'Intensity_MeanIntensity_cells']]\n",
    "\n",
    "# Print results to check\n",
    "print(f\"40th Percentile from the Median: {lower_40_percentile_threshold}\")\n",
    "print(f\"how many values below or equal to the threshold:\\n{len(below_or_equal_threshold)}\")\n",
    "print(f\"how many values above the threshold:\\n{len(above_threshold)}\")\n",
    "print(below_or_equal_threshold.head(5))\n",
    "print(above_threshold.head(5))\n",
    "\n",
    "\n"
   ]
  }
 ],
 "metadata": {
  "kernelspec": {
   "display_name": "uqbio2024_py310",
   "language": "python",
   "name": "python3"
  },
  "language_info": {
   "codemirror_mode": {
    "name": "ipython",
    "version": 3
   },
   "file_extension": ".py",
   "mimetype": "text/x-python",
   "name": "python",
   "nbconvert_exporter": "python",
   "pygments_lexer": "ipython3",
   "version": "3.10.14"
  }
 },
 "nbformat": 4,
 "nbformat_minor": 2
}
