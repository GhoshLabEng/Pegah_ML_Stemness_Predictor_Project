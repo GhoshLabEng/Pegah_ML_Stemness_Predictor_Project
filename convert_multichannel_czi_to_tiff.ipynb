{
 "cells": [
  {
   "cell_type": "code",
   "execution_count": 6,
   "metadata": {},
   "outputs": [],
   "source": [
    "import czifile\n",
    "import tifffile\n",
    "import tifftools\n",
    "import os\n",
    "\n",
    "# Load the .czi file\n",
    "input_dir = \"/Users/pegaheizad/Desktop/Ghosh_lab/czi/P5_TCP_czi\"\n",
    "# Create an output directory for the tiff files\n",
    "output_dir = \"/Users/pegaheizad/Desktop/Ghosh_lab/P5_TCP_TIFFS\"\n",
    "# Define the output file name\n",
    "tiff_file_path = os.path.join(output_dir, f\"temp_tiff.tif\")\n",
    "\n",
    "for filename in os.listdir(input_dir):\n",
    "  if (filename != '.DS_Store'):\n",
    "    czi_file = os.path.join(input_dir, filename)\n",
    "    czi_data = czifile.imread(czi_file)\n",
    "    # find image stack in czi_data\n",
    "    image_stack = czi_data[0]\n",
    "    # Save image_stack as a .tif file\n",
    "    tifffile.imwrite(tiff_file_path, image_stack)\n",
    "\n",
    "    multiChannel_tiff_file = tifftools.read_tiff(os.path.join(output_dir, \"temp_tiff.tif\"))\n",
    "    #naming the output files\n",
    "    for index, ifd in enumerate(multiChannel_tiff_file['ifds']):\n",
    "      file_num = filename.split('-')[1].split('.')[0]  \n",
    "      if index == 0:\n",
    "        tiff_filename = f\"snap{file_num}_p5_TCP_cd73.tif\"\n",
    "      elif index == 1:\n",
    "        tiff_filename = f\"snap{file_num}_p5_TCP_cd105.tif\"\n",
    "      else:\n",
    "        tiff_filename = f\"snap{file_num}_p5_TCP_dapi.tif\"\n",
    "    \n",
    "      file_path = os.path.join(output_dir, tiff_filename)\n",
    "      tifftools.write_tiff(ifd, file_path)\n",
    "    #trash collection\n",
    "    os.remove(os.path.join(output_dir, \"temp_tiff.tif\"))\n",
    "\n",
    "    \n"
   ]
  }
 ],
 "metadata": {
  "kernelspec": {
   "display_name": "uqbio2024_py310",
   "language": "python",
   "name": "python3"
  },
  "language_info": {
   "codemirror_mode": {
    "name": "ipython",
    "version": 3
   },
   "file_extension": ".py",
   "mimetype": "text/x-python",
   "name": "python",
   "nbconvert_exporter": "python",
   "pygments_lexer": "ipython3",
   "version": "3.10.14"
  }
 },
 "nbformat": 4,
 "nbformat_minor": 2
}
