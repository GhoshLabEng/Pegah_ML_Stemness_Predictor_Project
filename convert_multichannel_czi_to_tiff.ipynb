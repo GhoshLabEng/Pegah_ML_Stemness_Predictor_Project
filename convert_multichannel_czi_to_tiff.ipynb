{
 "cells": [
  {
   "cell_type": "code",
   "execution_count": 7,
   "metadata": {},
   "outputs": [],
   "source": [
    "import czifile\n",
    "import tifffile\n",
    "import tifftools\n",
    "import os\n",
    "\n",
    "# Load the .czi file\n",
    "czi_file = \"/Users/pegaheizad/Desktop/Ghosh_lab/P5_TCP/Snap-2046.czi\"  # Replace with your .czi file name\n",
    "czi_data = czifile.imread(czi_file)\n",
    "\n",
    "# Create an output directory for the tiff files\n",
    "output_dir = \"/Users/pegaheizad/Desktop/Ghosh_lab/P5_TCP_Tiffs\"\n",
    "# Define the output file name\n",
    "tiff_file_path = os.path.join(output_dir, f\"tiff_file.tiff\")\n",
    "# find image stack in czi_data\n",
    "image_stack = czi_data[0]\n",
    "# Save image_stack as a .tiff file\n",
    "tifffile.imwrite(tiff_file_path, image_stack)\n",
    "\n",
    "multiChannel_tiff_file = tifftools.read_tiff(\"/Users/pegaheizad/Desktop/Ghosh_lab/P5_TCP_Tiffs/tiff_file.tiff\")\n",
    "for index, ifd in enumerate(multiChannel_tiff_file['ifds']):\n",
    "  file_name = f\"image_{index + 1}.tiff\"\n",
    "  file_path = os.path.join(output_dir, file_name)\n",
    "  tifftools.write_tiff(ifd, file_path)\n",
    "\n",
    "#trash collection\n",
    "os.remove(\"/Users/pegaheizad/Desktop/Ghosh_lab/P5_TCP_Tiffs/tiff_file.tiff\")\n"
   ]
  }
 ],
 "metadata": {
  "kernelspec": {
   "display_name": "uqbio2024_py310",
   "language": "python",
   "name": "python3"
  },
  "language_info": {
   "codemirror_mode": {
    "name": "ipython",
    "version": 3
   },
   "file_extension": ".py",
   "mimetype": "text/x-python",
   "name": "python",
   "nbconvert_exporter": "python",
   "pygments_lexer": "ipython3",
   "version": "3.10.14"
  }
 },
 "nbformat": 4,
 "nbformat_minor": 2
}
