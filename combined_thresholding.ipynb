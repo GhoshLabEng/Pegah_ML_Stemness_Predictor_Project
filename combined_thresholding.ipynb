{
 "cells": [
  {
   "cell_type": "code",
   "execution_count": 1,
   "metadata": {},
   "outputs": [
    {
     "name": "stdout",
     "output_type": "stream",
     "text": [
      "Updated Excel saved to /Users/pegaheizad/Desktop/Ghosh_lab/MyExpt_cells_filtered_normalized_cd105_with_cd73.xlsx\n"
     ]
    }
   ],
   "source": [
    "import pandas as pd\n",
    "\n",
    "# Paths to the Excel files\n",
    "file_cd73 = '/Users/pegaheizad/Desktop/Ghosh_lab/cd73_intensities/data_files/MyExpt_cells_filtered_normalized_cd73.xlsx'\n",
    "file_cd105 = '/Users/pegaheizad/Desktop/Ghosh_lab/cd105_intensities/data_files/MyExpt_cells_filtered_normalized_cd105.xlsx'\n",
    "\n",
    "# Read in the cd73 Excel file\n",
    "df_cd73 = pd.read_excel(file_cd73)\n",
    "\n",
    "# Read in the cd105 Excel file\n",
    "df_cd105 = pd.read_excel(file_cd105)\n",
    "\n",
    "# Copy the 'Normalized_Intensities' column from cd73 data\n",
    "normalized_intensities_cd73 = df_cd73['Normalized_Intensities']\n",
    "\n",
    "# Add the 'Normalized_Intensities' column to a copy of the cd105 DataFrame\n",
    "df_cd105_copy = df_cd105.copy()\n",
    "df_cd105_copy['Normalized_Intensities_cd73'] = normalized_intensities_cd73\n",
    "\n",
    "# Save the updated DataFrame to a new Excel file\n",
    "new_file_path = '/Users/pegaheizad/Desktop/Ghosh_lab/MyExpt_cells_filtered_normalized_cd105_with_cd73.xlsx'\n",
    "df_cd105_copy.to_excel(new_file_path, index=False)\n",
    "\n",
    "print(f\"Updated Excel saved to {new_file_path}\")\n"
   ]
  },
  {
   "cell_type": "code",
   "execution_count": 2,
   "metadata": {},
   "outputs": [
    {
     "name": "stdout",
     "output_type": "stream",
     "text": [
      "how many values above the threshold:\n",
      "385\n",
      "how many values below or equal to the threshold:\n",
      "7003\n"
     ]
    }
   ],
   "source": [
    "df = pd.read_excel('/Users/pegaheizad/Desktop/Ghosh_lab/MyExpt_cells_filtered_normalized_cd105_with_cd73.xlsx')\n",
    "\n",
    "cd105_threshold = 42.39569657041798\n",
    "cd73_threshold = 2.2430370776227644\n",
    "\n",
    "# sort values based on the threshold\n",
    "above_threshold = df[\n",
    "    (df['Normalized_Intensities_cd105'] > cd105_threshold) & \n",
    "    (df['Normalized_Intensities_cd73'] > cd73_threshold)\n",
    "]\n",
    "below_or_equal_threshold = df[\n",
    "    (df['Normalized_Intensities_cd105'] <= cd105_threshold) & \n",
    "    (df['Normalized_Intensities_cd73'] <= cd73_threshold)\n",
    "]\n",
    "\n",
    "# Print results to check\n",
    "print(f\"how many values above the threshold:\\n{len(above_threshold)}\")\n",
    "print(f\"how many values below or equal to the threshold:\\n{len(below_or_equal_threshold)}\")\n"
   ]
  },
  {
   "cell_type": "code",
   "execution_count": 3,
   "metadata": {},
   "outputs": [],
   "source": [
    "# take a segment of the data for the ML\n",
    "above_threshold_data_for_ML = above_threshold\n",
    "below_or_equal_threshold_data_for_ML = below_or_equal_threshold.head(400)\n",
    "\n",
    "combined_data = pd.concat([above_threshold_data_for_ML, below_or_equal_threshold_data_for_ML])\n",
    "combined_data.to_excel(\"/Users/pegaheizad/Desktop/Ghosh_lab/ML_combined_data_intensity_classified.xlsx\", index=False)"
   ]
  }
 ],
 "metadata": {
  "kernelspec": {
   "display_name": "uqbio2024_py310",
   "language": "python",
   "name": "python3"
  },
  "language_info": {
   "codemirror_mode": {
    "name": "ipython",
    "version": 3
   },
   "file_extension": ".py",
   "mimetype": "text/x-python",
   "name": "python",
   "nbconvert_exporter": "python",
   "pygments_lexer": "ipython3",
   "version": "3.10.14"
  }
 },
 "nbformat": 4,
 "nbformat_minor": 2
}
