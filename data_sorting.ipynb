{
 "cells": [
  {
   "cell_type": "markdown",
   "metadata": {},
   "source": [
    "### Classifying cells based on inflextion point threshold"
   ]
  },
  {
   "cell_type": "code",
   "execution_count": 16,
   "metadata": {},
   "outputs": [
    {
     "name": "stdout",
     "output_type": "stream",
     "text": [
      "how many values above the threshold:\n",
      "2949\n",
      "how many values below or equal to the threshold:\n",
      "4622\n"
     ]
    }
   ],
   "source": [
    "#Classify the cells based on where their cd73 expression intensity falls compared \n",
    "#to the inflection point threshold calculated in find_inflection_point.ipynb\n",
    "\n",
    "import pandas as pd\n",
    "import numpy as np\n",
    "\n",
    "# Read the excel file\n",
    "file_path = '/Users/pegaheizad/Desktop/Ghosh_lab/cd105_intensities/data_files'\n",
    "df = pd.read_excel(f'{file_path}/MyExpt_cells_filtered.xlsx')\n",
    "\n",
    "# inflection point intensity or threshold set based off of histograms\n",
    "threshold = 0.3858273899640524\n",
    "\n",
    "# sort values based on the threshold\n",
    "above_threshold = df[df['Intensity_MeanIntensity_cd105_img'] > threshold]\n",
    "below_or_equal_threshold = df[df['Intensity_MeanIntensity_cd105_img'] <= threshold]\n",
    "\n",
    "# Print results to check\n",
    "print(f\"how many values above the threshold:\\n{len(above_threshold)}\")\n",
    "print(f\"how many values below or equal to the threshold:\\n{len(below_or_equal_threshold)}\")\n"
   ]
  },
  {
   "cell_type": "code",
   "execution_count": 18,
   "metadata": {},
   "outputs": [],
   "source": [
    "# take a segment of the data for the ML\n",
    "above_threshold_data_for_ML = above_threshold\n",
    "below_or_equal_threshold_data_for_ML = below_or_equal_threshold.head(3000)\n",
    "\n",
    "combined_data = pd.concat([above_threshold_data_for_ML, below_or_equal_threshold_data_for_ML])\n",
    "combined_data.to_excel(\"/Users/pegaheizad/Desktop/Ghosh_lab/cd105_intensities/data_files/ML_data_intensity_classified.xlsx\", index=False)"
   ]
  },
  {
   "cell_type": "markdown",
   "metadata": {},
   "source": [
    "### (Normalized) Classify based in P5 527 & not "
   ]
  },
  {
   "cell_type": "code",
   "execution_count": 9,
   "metadata": {},
   "outputs": [],
   "source": [
    "p5soft_data = df[df['Metadata_FileLocation'].str.contains('P5_soft')]\n",
    "not_p5_soft = df[~df['Metadata_FileLocation'].str.contains('P5_soft')].sample(n=932, random_state=1)\n",
    "\n",
    "combined_data = pd.concat([p5soft_data, not_p5_soft])\n",
    "combined_data.to_excel(f'{file_path}/ML_data_p5soft_vs_not.xlsx', index=False)\n"
   ]
  },
  {
   "cell_type": "markdown",
   "metadata": {},
   "source": [
    "### (Normalized) P5 527 vs TCP"
   ]
  },
  {
   "cell_type": "code",
   "execution_count": 7,
   "metadata": {},
   "outputs": [],
   "source": [
    "p5soft_data = df[df['Metadata_FileLocation'].str.contains('P5_soft')]\n",
    "p5_TCP = df[df['Metadata_FileLocation'].str.contains('P5_TCP')].head(1000)\n",
    "\n",
    "# print(len(p5soft_data))\n",
    "# print(len(p5_TCP))\n",
    "\n",
    "combined_data = pd.concat([p5soft_data, p5_TCP])\n",
    "combined_data.to_excel(f'{file_path}/ML_data_p5soft_vs_TCP.xlsx', index=False)"
   ]
  },
  {
   "cell_type": "markdown",
   "metadata": {},
   "source": [
    "### (Normalized) P5 vs P3"
   ]
  },
  {
   "cell_type": "code",
   "execution_count": 17,
   "metadata": {},
   "outputs": [
    {
     "name": "stdout",
     "output_type": "stream",
     "text": [
      "2105\n",
      "2500\n"
     ]
    }
   ],
   "source": [
    "p5 = df[df['Metadata_FileLocation'].str.contains('P5')].sample(n=2105, random_state=1)\n",
    "p3 = df[df['Metadata_FileLocation'].str.contains('P3')].sample(n=2500, random_state=1)\n",
    "\n",
    "print(len(p5))\n",
    "print(len(p3))\n",
    "\n",
    "combined_data = pd.concat([p5, p3])\n",
    "combined_data.to_excel(f'{file_path}/ML_data_p5_vs_P3.xlsx', index=False)"
   ]
  },
  {
   "cell_type": "markdown",
   "metadata": {},
   "source": [
    "## Classify based on intensity threshold and make the two groups the highest and lowest intensities"
   ]
  },
  {
   "cell_type": "markdown",
   "metadata": {},
   "source": [
    "### Highest and lowest 1921 "
   ]
  },
  {
   "cell_type": "code",
   "execution_count": 15,
   "metadata": {},
   "outputs": [],
   "source": [
    "highest = above_threshold.sort_values(by='Normalized_Intensities', ascending=False)\n",
    "lowest = below_or_equal_threshold.sort_values(by='Normalized_Intensities', ascending=True).head(500)\n",
    "\n",
    "# Concatenate the two datasets\n",
    "combined_data = pd.concat([highest, lowest])\n",
    "\n",
    "# Write the combined data into an Excel file\n",
    "combined_data.to_excel(f'{file_path}/ML_normalized_highest_vs_lowest_intensities.xlsx', index=False)"
   ]
  },
  {
   "cell_type": "code",
   "execution_count": 5,
   "metadata": {},
   "outputs": [],
   "source": [
    "# Concatenate the two datasets\n",
    "combined_data = pd.concat([above_threshold_data_for_ML, below_or_equal_threshold_data_for_ML])\n",
    "\n",
    "# Write the combined data into an Excel file\n",
    "combined_data.to_excel(\"/Users/pegaheizad/Desktop/Ghosh_lab/data_files/ML_cd73_data_threshold_sorted.xlsx\", index=False)"
   ]
  },
  {
   "cell_type": "markdown",
   "metadata": {},
   "source": [
    "## Classsify based on growing surface"
   ]
  },
  {
   "cell_type": "code",
   "execution_count": 8,
   "metadata": {},
   "outputs": [
    {
     "name": "stdout",
     "output_type": "stream",
     "text": [
      "how many values in the soft category: 10753\n",
      "how many values in the TCP category: 5739\n"
     ]
    }
   ],
   "source": [
    "# classify based on soft vs TCP \n",
    "soft = df[df['Metadata_GrowingSurface'] == 'soft']\n",
    "tcp = df[df['Metadata_GrowingSurface'] == 'TCP']\n",
    "\n",
    "# print results to check\n",
    "print(f'how many values in the soft category: {len(soft)}')\n",
    "print(f'how many values in the TCP category: {len(tcp)}')\n",
    "\n",
    "soft_data_for_ML = soft.head(5500)\n",
    "tcp_data_for_ML = tcp.head(5000)\n",
    "\n",
    "combined_data = pd.concat([soft_data_for_ML, tcp_data_for_ML])\n",
    "combined_data.to_excel('/Users/pegaheizad/Desktop/Ghosh_lab/data_files/ML_cd73_data_growing_surface_sorted.xlsx', index=False)"
   ]
  },
  {
   "cell_type": "markdown",
   "metadata": {},
   "source": [
    "### P5 527 vs P5 TCP"
   ]
  },
  {
   "cell_type": "code",
   "execution_count": 35,
   "metadata": {},
   "outputs": [
    {
     "name": "stdout",
     "output_type": "stream",
     "text": [
      "how many values in the soft category: 6567\n",
      "how many values in the TCP category: 2150\n"
     ]
    }
   ],
   "source": [
    "# classify based on soft vs TCP \n",
    "p5_soft = df[(df['Metadata_Passage'] == 5) & (df['Metadata_GrowingSurface'] == 'soft')]\n",
    "p5_tcp = df[(df['Metadata_Passage'] == 5) & (df['Metadata_GrowingSurface'] == 'TCP')]\n",
    "\n",
    "# print results to check\n",
    "print(f'how many values in the soft category: {len(p5_soft)}')\n",
    "print(f'how many values in the TCP category: {len(p5_tcp)}')\n",
    "\n",
    "p5_soft_data_for_ML = p5_soft.head(2000)\n",
    "p5_tcp_data_for_ML = p5_tcp.head(2150)\n",
    "\n",
    "combined_data = pd.concat([p5_soft_data_for_ML, p5_tcp_data_for_ML])\n",
    "combined_data.to_excel('/Users/pegaheizad/Desktop/Ghosh_lab/data_files/ML_cd73_data_p5_growing_surface_sorted.xlsx', index=False)"
   ]
  },
  {
   "cell_type": "markdown",
   "metadata": {},
   "source": [
    "### P3 527 vs TCP"
   ]
  },
  {
   "cell_type": "code",
   "execution_count": 34,
   "metadata": {},
   "outputs": [
    {
     "name": "stdout",
     "output_type": "stream",
     "text": [
      "how many values in the soft category: 4186\n",
      "how many values in the TCP category: 3589\n"
     ]
    }
   ],
   "source": [
    "# classify based on soft vs TCP \n",
    "p3_soft = df[(df['Metadata_Passage'] == 3) & (df['Metadata_GrowingSurface'] == 'soft')]\n",
    "p3_tcp = df[(df['Metadata_Passage'] == 3) & (df['Metadata_GrowingSurface'] == 'TCP')]\n",
    "\n",
    "# print results to check\n",
    "print(f'how many values in the soft category: {len(p3_soft)}')\n",
    "print(f'how many values in the TCP category: {len(p3_tcp)}')\n",
    "\n",
    "p3_soft_data_for_ML = p3_soft.head(3500)\n",
    "p3_tcp_data_for_ML = p3_tcp.head(3589)\n",
    "\n",
    "combined_data = pd.concat([p3_soft_data_for_ML, p3_tcp_data_for_ML])\n",
    "combined_data.to_excel('/Users/pegaheizad/Desktop/Ghosh_lab/data_files/ML_cd73_data_p3_growing_surface_sorted.xlsx', index=False)"
   ]
  },
  {
   "cell_type": "markdown",
   "metadata": {},
   "source": [
    "### Classifying cells based on passage"
   ]
  },
  {
   "cell_type": "code",
   "execution_count": 12,
   "metadata": {},
   "outputs": [
    {
     "name": "stdout",
     "output_type": "stream",
     "text": [
      "how many values in the P3 category: 7775\n",
      "how many values in the P5 category: 8717\n"
     ]
    }
   ],
   "source": [
    "# classify based on P3 vs P5 \n",
    "p3 = df[df['Metadata_Passage'] == 3]\n",
    "p5 = df[df['Metadata_Passage'] == 5]\n",
    "\n",
    "# print results to check\n",
    "print(f'how many values in the P3 category: {len(p3)}')\n",
    "print(f'how many values in the P5 category: {len(p5)}')\n",
    "\n",
    "p3_data_for_ML = p3.head(7500)\n",
    "p5_data_for_ML = p5.head(8000)\n",
    "\n",
    "combined_data = pd.concat([p3_data_for_ML, p5_data_for_ML])\n",
    "combined_data.to_excel('/Users/pegaheizad/Desktop/Ghosh_lab/data_files/ML_cd73_data_passage_sorted.xlsx', index=False)"
   ]
  },
  {
   "cell_type": "markdown",
   "metadata": {},
   "source": [
    "### TCP P5 vs P3"
   ]
  },
  {
   "cell_type": "code",
   "execution_count": 17,
   "metadata": {},
   "outputs": [
    {
     "name": "stdout",
     "output_type": "stream",
     "text": [
      "how many values in the P3 category: 2150\n",
      "how many values in the P5 category: 3589\n"
     ]
    }
   ],
   "source": [
    "p5_tcp = df[(df['Metadata_GrowingSurface'] == 'TCP') & (df['Metadata_Passage'] == 5)]\n",
    "p3_tcp = df[(df['Metadata_GrowingSurface'] == 'TCP') & (df['Metadata_Passage'] == 3)]\n",
    "\n",
    "# print results to check\n",
    "print(f'how many values in the P3 category: {len(p5_tcp)}')\n",
    "print(f'how many values in the P5 category: {len(p3_tcp)}')\n",
    "\n",
    "p5TCP_data_for_ML = p5_tcp.head(2100)\n",
    "p3TCP_data_for_ML = p3_tcp.head(2500)\n",
    "\n",
    "combined_data = pd.concat([p5TCP_data_for_ML, p3TCP_data_for_ML])\n",
    "combined_data.to_excel('/Users/pegaheizad/Desktop/Ghosh_lab/data_files/ML_cd73_data_p5tcp_p3tcp.xlsx', index=False)\n"
   ]
  },
  {
   "cell_type": "code",
   "execution_count": 19,
   "metadata": {},
   "outputs": [
    {
     "name": "stdout",
     "output_type": "stream",
     "text": [
      "how many values in the P3 category: 6567\n",
      "how many values in the P5 category: 4186\n"
     ]
    }
   ],
   "source": [
    "p5_527 = df[(df['Metadata_GrowingSurface'] == 'soft') & (df['Metadata_Passage'] == 5)]\n",
    "p3_527 = df[(df['Metadata_GrowingSurface'] == 'soft') & (df['Metadata_Passage'] == 3)]\n",
    "\n",
    "# print results to check\n",
    "print(f'how many values in the P3 category: {len(p5_527)}')\n",
    "print(f'how many values in the P5 category: {len(p3_527)}')\n",
    "\n",
    "p5_527_data_for_ML = p5_527.head(4100)\n",
    "p3_527_data_for_ML = p3_527.head(4000)\n",
    "\n",
    "combined_data = pd.concat([p5_527_data_for_ML, p3_527_data_for_ML])\n",
    "combined_data.to_excel('/Users/pegaheizad/Desktop/Ghosh_lab/data_files/ML_cd73_data_p5soft_p3soft.xlsx', index=False)"
   ]
  },
  {
   "cell_type": "code",
   "execution_count": 7,
   "metadata": {},
   "outputs": [
    {
     "data": {
      "image/png": "[encoded data removed]",
      "text/plain": [
       "<Figure size 1000x600 with 1 Axes>"
      ]
     },
     "metadata": {},
     "output_type": "display_data"
    }
   ],
   "source": [
    "import matplotlib.pyplot as plt\n",
    "import pandas as pd\n",
    "\n",
    "# Define the data, including the new group\n",
    "new_data = {\n",
    "    'Comparison': ['Above Threshold vs Below Threshold (normalized by per cell dapi intensity)', 'Above Threshold vs Below Threshold (normalized by avg dapi intensity)', 'Highest (Normalized intensity) ~2000 vs Lowest', 'P5 527 vs TCP', 'P5 527 vs not', 'P5 vs P3'],\n",
    "    'Accuracy': [51, 49, 51, 51, 50, 51]\n",
    "}\n",
    "\n",
    "# Create a DataFrame with the new group\n",
    "df_new = pd.DataFrame(new_data)\n",
    "\n",
    "# Sort the DataFrame by Accuracy\n",
    "# df_new = df_new.sort_values(by='Accuracy')\n",
    "\n",
    "# Create the plot\n",
    "plt.figure(figsize=(10, 6))\n",
    "bars = plt.barh(df_new['Comparison'], df_new['Accuracy'], color=['#FF8833','#FF33FF', '#9B33FF', '#FF5733', '#33FF57', '#33FFF7'])\n",
    "\n",
    "# Add larger and bold labels with the new title\n",
    "plt.xlabel('Accuracy (%)', fontsize=14, fontweight='bold')\n",
    "plt.ylabel('Comparison', fontsize=14, fontweight='bold')\n",
    "plt.title('CD73 Normalized - ML Accuracy Comparison for Different Data Clusters', fontsize=16, fontweight='bold', loc='right')\n",
    "\n",
    "# Set the y-tick labels (comparisons) to bold\n",
    "plt.yticks(fontsize=12, fontweight='bold')\n",
    "\n",
    "# Set the x-tick labels (numbers) to bold\n",
    "plt.xticks(fontsize=12, fontweight='bold')\n",
    "\n",
    "# Display the values on the bars with bold font\n",
    "for bar in bars:\n",
    "    plt.text(bar.get_width() - 5, bar.get_y() + bar.get_height()/2, f'{bar.get_width()}%', va='center', ha='center', \n",
    "             color='white', fontsize=12, fontweight='bold')\n",
    "\n",
    "# Add a dotted red line between the two groups\n",
    "# plt.axhline(y=1.5, color='red', linestyle='--', linewidth=2)\n",
    "\n",
    "# Remove the black border (spines)\n",
    "ax = plt.gca()\n",
    "ax.spines['top'].set_visible(False)\n",
    "ax.spines['right'].set_visible(False)\n",
    "ax.spines['left'].set_visible(True)\n",
    "ax.spines['bottom'].set_visible(True)\n",
    "\n",
    "# Show the plot\n",
    "plt.tight_layout()\n",
    "plt.show()\n"
   ]
  }
 ],
 "metadata": {
  "kernelspec": {
   "display_name": "uqbio2024_py310",
   "language": "python",
   "name": "python3"
  },
  "language_info": {
   "codemirror_mode": {
    "name": "ipython",
    "version": 3
   },
   "file_extension": ".py",
   "mimetype": "text/x-python",
   "name": "python",
   "nbconvert_exporter": "python",
   "pygments_lexer": "ipython3",
   "version": "3.10.14"
  }
 },
 "nbformat": 4,
 "nbformat_minor": 2
}
